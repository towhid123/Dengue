{
 "cells": [
  {
   "cell_type": "markdown",
   "metadata": {},
   "source": [
    "### Addition to the last attempt\n",
    "Since there is a some gap between the change in climate, proliferation of mosquitoes, there bites and finally the reporting of the disease, this notebook also plays with the idea of shifting our data by 0, 1, 2 and 3 steps in time, all the preprocessing functions have been accordingly modified for seemless testing of this idea!"
   ]
  },
  {
   "cell_type": "markdown",
   "metadata": {},
   "source": [
    "### choosing this model\n",
    "This section explores the reasoning behind going for negative binomial regression"
   ]
  },
  {
   "cell_type": "code",
   "execution_count": 1,
   "metadata": {},
   "outputs": [],
   "source": [
    "import pandas as pd\n",
    "import seaborn as sns\n",
    "import matplotlib.pyplot as plt\n",
    "\n",
    "%matplotlib inline"
   ]
  },
  {
   "cell_type": "code",
   "execution_count": 2,
   "metadata": {
    "scrolled": true
   },
   "outputs": [
    {
     "data": {
      "image/png": "[encoded data removed]",
      "text/plain": [
       "<Figure size 432x288 with 1 Axes>"
      ]
     },
     "metadata": {
      "needs_background": "light"
     },
     "output_type": "display_data"
    }
   ],
   "source": [
    "y = pd.read_csv(\"data/dengue_labels_train.csv\")\n",
    "sns.distplot(y.total_cases)\n",
    "plt.show()"
   ]
  },
  {
   "cell_type": "markdown",
   "metadata": {},
   "source": [
    "> As is evident from the distribution of our y labels in the graph, we have a highly skewed distribution, that combined with the fact our labels are count variables, makes a very convincing case for using negative binomial regression!\n",
    "You can read more about negative binomial regression [here](http://www.mathematica-journal.com/2013/06/negative-binomial-regression/)"
   ]
  },
  {
   "cell_type": "markdown",
   "metadata": {},
   "source": [
    "### Modelling"
   ]
  },
  {
   "cell_type": "markdown",
   "metadata": {},
   "source": [
    "#### importing the relevant packages and loading the data\n",
    "In order to implement negative binomial regression, we use the go to statistical library for python, statsmodels!"
   ]
  },
  {
   "cell_type": "code",
   "execution_count": 3,
   "metadata": {},
   "outputs": [],
   "source": [
    "import statsmodels.api as sm\n",
    "\n",
    "from warnings import filterwarnings\n",
    "\n",
    "filterwarnings('ignore')\n",
    "\n",
    "from statsmodels.tools import eval_measures\n",
    "import statsmodels.formula.api as smf"
   ]
  },
  {
   "cell_type": "code",
   "execution_count": 4,
   "metadata": {},
   "outputs": [],
   "source": [
    "import numpy as np\n",
    "\n",
    "from sklearn.model_selection import train_test_split\n",
    "# from sklearn.feature_selection import RFE\n",
    "\n",
    "from sklearn.metrics import mean_absolute_error\n",
    "from sklearn.metrics import median_absolute_error\n",
    "from sklearn.model_selection import ParameterGrid\n",
    "from sklearn.model_selection import TimeSeriesSplit\n",
    "from sklearn.preprocessing import StandardScaler\n",
    "\n",
    "from scipy import stats\n",
    "\n",
    "from xgboost import XGBRegressor\n",
    "\n",
    "from sklearn.model_selection import cross_val_score\n",
    "from sklearn.metrics import make_scorer\n",
    "\n",
    "from sklearn.feature_selection import f_regression\n",
    "from sklearn.feature_selection import SelectKBest"
   ]
  },
  {
   "cell_type": "code",
   "execution_count": 5,
   "metadata": {
    "scrolled": true
   },
   "outputs": [],
   "source": [
    "from mlxtend.feature_selection import SequentialFeatureSelector as SFS"
   ]
  },
  {
   "cell_type": "markdown",
   "metadata": {},
   "source": [
    "#### Pre Processing"
   ]
  },
  {
   "cell_type": "code",
   "execution_count": 6,
   "metadata": {},
   "outputs": [],
   "source": [
    "def impute(X):\n",
    "    \n",
    "    # remove the colum that has ~20% null values, also ranks low on feature importance\n",
    "    X.drop(['ndvi_ne'], axis=1, inplace=True)\n",
    "    \n",
    "    # Filling the rest using linear interpolation\n",
    "    X.interpolate(inplace=True)\n",
    "\n",
    "def remove_outliers(df):\n",
    "    return df[(np.abs(stats.zscore(df)) < 5).all(axis=1)]\n",
    "\n",
    "def mape(Y_test, Y_pred, epsilon = 1):\n",
    "    return np.mean(np.abs((Y_test - Y_pred + epsilon) / (Y_test + epsilon))) * 100\n",
    "\n",
    "def extract_month(s):\n",
    "    return int(s[5:7])\n",
    "\n",
    "def city_indices(X):\n",
    "    # city boolean encoding\n",
    "    return X.city == 'sj'\n",
    "\n",
    "def pre_process(X, y, trees = False):\n",
    "    \"\"\"\n",
    "    Extracts the month out of date and converts it to a one hot\n",
    "    Standardizes the numerical features\n",
    "    \"\"\"\n",
    "    \n",
    "    #Extracting month from the date\n",
    "    months = X.week_start_date.apply(extract_month)\n",
    "    \n",
    "    #Response coding\n",
    "#     month = X.week_start_date.apply(extract_month)\n",
    "#     temp = pd.DataFrame(y.total_cases)\n",
    "#     temp['month'] = month\n",
    "#     for name,group in temp.groupby(month):\n",
    "#         month[group.index] = np.median(group.total_cases)\n",
    "        \n",
    "    # Removing the columns not required for classification\n",
    "    X.drop(['city', 'year', 'weekofyear', 'week_start_date'], axis=1, inplace=True)\n",
    "\n",
    "    # Standardizing the data\n",
    "    if not trees:\n",
    "        scaler = StandardScaler()\n",
    "        X[X.columns] = scaler.fit_transform(X)\n",
    "\n",
    "    # Month one hot features\n",
    "    month_features = pd.get_dummies(months, prefix='m_')\n",
    "    X = X.join(month_features)\n",
    "\n",
    "    #Alternatively use response coding \n",
    "#     X = X.join(month)\n",
    "    \n",
    "    return X\n",
    "\n",
    "def seperate_cities_data(X, is_sj):\n",
    "\n",
    "    # Seperating the cities data\n",
    "    X_sj = X.loc[is_sj]\n",
    "    X_iq = X.loc[~is_sj]\n",
    "    \n",
    "    return X_sj, X_iq\n",
    "\n",
    "def get_y_labels(X_sj, X_iq, y):    \n",
    "    \n",
    "    y = y.total_cases    \n",
    "    y_sj = y.loc[X_sj.index]\n",
    "    y_iq = y.loc[X_iq.index]\n",
    "    \n",
    "    return y_sj, y_iq\n",
    "\n",
    "def split(X_sj, X_iq, y_sj, y_iq):\n",
    "\n",
    "    # train and test split\n",
    "    sj_split_data = train_test_split(X_sj, y_sj, shuffle = False)\n",
    "    iq_split_data = train_test_split(X_iq, y_iq, shuffle = False)\n",
    "\n",
    "    return sj_split_data, iq_split_data\n",
    "\n",
    "def process(X, y = pd.Series(), train = True, trees = False, feature_selection = 0, time_shift = 0):\n",
    "    \n",
    "    is_sj = city_indices(X)\n",
    "    if not trees:\n",
    "        impute(X)\n",
    "    X = pre_process(X, y, trees)\n",
    "    \n",
    "    if feature_selection:\n",
    "        selector = SelectKBest(f_regression, k=feature_selection).fit(X,y.total_cases)\n",
    "        X = X.loc[:,selector.get_support()]\n",
    "\n",
    "    #X = remove_outliers(X)\n",
    "    X_sj, X_iq = seperate_cities_data(X, is_sj)\n",
    "    if y.empty:\n",
    "        return X_sj, X_iq\n",
    "    \n",
    "    y_sj, y_iq = get_y_labels(X_sj, X_iq, y)\n",
    "    if time_shift:\n",
    "        y_sj = y_sj.shift(time_shift).dropna()\n",
    "        y_iq = y_iq.shift(time_shift).dropna()\n",
    "        X_sj = X_sj[:-time_shift]\n",
    "        X_iq = X_iq[:-time_shift]\n",
    "        \n",
    "    if not train:\n",
    "        return X_sj, X_iq, y_sj, y_iq\n",
    "    \n",
    "    return split(X_sj, X_iq, y_sj, y_iq)"
   ]
  },
  {
   "cell_type": "code",
   "execution_count": 7,
   "metadata": {},
   "outputs": [],
   "source": [
    "X = pd.read_csv(\"data/dengue_features_train.csv\")\n",
    "data = process(X,y)\n",
    "\n",
    "(X_sj_train, X_sj_test, Y_sj_train, Y_sj_test), (X_iq_train, X_iq_test, Y_iq_train, Y_iq_test) = data"
   ]
  },
  {
   "cell_type": "markdown",
   "metadata": {},
   "source": [
    "#### Negative Binomial Regression"
   ]
  },
  {
   "cell_type": "code",
   "execution_count": 8,
   "metadata": {},
   "outputs": [],
   "source": [
    "formula = ' + '.join([str(i) for i in list(X_sj_train.columns)])\n",
    "formula = 'y ~ ' + formula"
   ]
  },
  {
   "cell_type": "markdown",
   "metadata": {},
   "source": [
    "> We first examine results seperately on the two cities"
   ]
  },
  {
   "cell_type": "markdown",
   "metadata": {},
   "source": [
    "#### The city of San Juan"
   ]
  },
  {
   "cell_type": "code",
   "execution_count": 9,
   "metadata": {},
   "outputs": [
    {
     "name": "stdout",
     "output_type": "stream",
     "text": [
      "cv error: 22.60683760683761\n",
      "train error: 25.48148148148148\n"
     ]
    }
   ],
   "source": [
    "train_sj = X_sj_train.copy()\n",
    "train_sj['y'] = Y_sj_train\n",
    "test_sj = X_sj_test.copy()\n",
    "\n",
    "model = smf.glm(formula=formula,\n",
    "                data=train_sj,\n",
    "                family=sm.families.NegativeBinomial())\n",
    "model = model.fit()\n",
    "\n",
    "predictions_sj = model.predict(test_sj).astype(int)\n",
    "print (\"cv error:\", mean_absolute_error(predictions_sj, Y_sj_test))\n",
    "\n",
    "pred_train_sj = model.predict(train_sj).astype(int)\n",
    "print (\"train error:\", mean_absolute_error(pred_train_sj, Y_sj_train))"
   ]
  },
  {
   "cell_type": "markdown",
   "metadata": {},
   "source": [
    "#### The city of iquitos"
   ]
  },
  {
   "cell_type": "code",
   "execution_count": 10,
   "metadata": {
    "scrolled": true
   },
   "outputs": [
    {
     "name": "stdout",
     "output_type": "stream",
     "text": [
      "cv error: 8.076923076923077\n",
      "train error: 5.438461538461539\n"
     ]
    }
   ],
   "source": [
    "train_iq = X_iq_train.copy()\n",
    "train_iq['y'] = Y_iq_train\n",
    "test_iq = X_iq_test.copy()\n",
    "\n",
    "model = smf.glm(formula=formula,\n",
    "                data=train_iq,\n",
    "                family=sm.families.NegativeBinomial())\n",
    "results = model.fit()\n",
    "\n",
    "predictions_iq = results.predict(test_iq).astype(int)\n",
    "print (\"cv error:\", mean_absolute_error(predictions_iq, Y_iq_test))\n",
    "\n",
    "pred_train_iq = results.predict(train_iq).astype(int)\n",
    "print (\"train error:\", mean_absolute_error(pred_train_iq, Y_iq_train))"
   ]
  },
  {
   "cell_type": "markdown",
   "metadata": {},
   "source": [
    "#### single evaluation metric\n",
    "Now the combined score for both the cities"
   ]
  },
  {
   "cell_type": "code",
   "execution_count": 11,
   "metadata": {},
   "outputs": [
    {
     "name": "stdout",
     "output_type": "stream",
     "text": [
      "cv error: 17.417582417582416\n",
      "train error: 18.323260073260073\n"
     ]
    }
   ],
   "source": [
    "pred = predictions_iq.append(predictions_sj)\n",
    "true = Y_iq_test.append(Y_sj_test)\n",
    "print (\"cv error:\", mean_absolute_error(pred, true))\n",
    "\n",
    "train_pred = pred_train_iq.append(pred_train_sj)\n",
    "train_true = Y_iq_train.append(Y_sj_train)\n",
    "print (\"train error:\", mean_absolute_error(train_pred, train_true))"
   ]
  },
  {
   "cell_type": "markdown",
   "metadata": {},
   "source": [
    "#### Conclusion : \n",
    " - Negative Binomial is by far the best model we have come across\n",
    " - We had high expectations from Time shifting the data but it actually decreases the performance\n",
    " \n",
    "#### Next Steps :\n",
    "At the next stage we shall dive into some more advanced statistical models"
   ]
  },
  {
   "cell_type": "code",
   "execution_count": null,
   "metadata": {},
   "outputs": [],
   "source": []
  },
  {
   "cell_type": "code",
   "execution_count": null,
   "metadata": {},
   "outputs": [],
   "source": []
  }
 ],
 "metadata": {
  "kernelspec": {
   "display_name": "Python 3",
   "language": "python",
   "name": "python3"
  },
  "language_info": {
   "codemirror_mode": {
    "name": "ipython",
    "version": 3
   },
   "file_extension": ".py",
   "mimetype": "text/x-python",
   "name": "python",
   "nbconvert_exporter": "python",
   "pygments_lexer": "ipython3",
   "version": "3.7.4"
  }
 },
 "nbformat": 4,
 "nbformat_minor": 2
}
