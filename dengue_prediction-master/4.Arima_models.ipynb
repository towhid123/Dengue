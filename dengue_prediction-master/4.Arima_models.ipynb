{
 "cells": [
  {
   "cell_type": "markdown",
   "metadata": {},
   "source": [
    "Disclaimer : This notebook still needs more documentation and refinement!"
   ]
  },
  {
   "cell_type": "markdown",
   "metadata": {},
   "source": [
    "#### importing the relevant libraries and preparing the data"
   ]
  },
  {
   "cell_type": "code",
   "execution_count": 1,
   "metadata": {},
   "outputs": [],
   "source": [
    "import warnings\n",
    "import itertools\n",
    "\n",
    "import pandas as pd\n",
    "import numpy as np\n",
    "\n",
    "import matplotlib.pyplot as plt\n",
    "import seaborn as sns\n",
    "\n",
    "X = pd.read_csv(\"data/dengue_features_train.csv\")\n",
    "y = pd.read_csv(\"data/dengue_labels_train.csv\")"
   ]
  },
  {
   "cell_type": "code",
   "execution_count": 2,
   "metadata": {
    "scrolled": true
   },
   "outputs": [],
   "source": [
    "from statsmodels.tsa.arima_model import ARIMA\n",
    "from statsmodels.tsa.stattools import adfuller\n",
    "import statsmodels.api as sm"
   ]
  },
  {
   "cell_type": "code",
   "execution_count": 3,
   "metadata": {},
   "outputs": [],
   "source": [
    "#setting a datetime index\n",
    "y.index = pd.DatetimeIndex(X.week_start_date)\n",
    "\n",
    "#seperating the data for the 2 cities\n",
    "sj_cases = y.total_cases[y.city == 'sj']\n",
    "iq_cases = y.total_cases[y.city == 'iq']"
   ]
  },
  {
   "cell_type": "code",
   "execution_count": 4,
   "metadata": {},
   "outputs": [],
   "source": [
    "#month sampling\n",
    "sj_monthly = sj_cases.resample('M').sum()\n",
    "iq_monthly = iq_cases.resample('M').sum()"
   ]
  },
  {
   "cell_type": "markdown",
   "metadata": {},
   "source": [
    "#### Analysing the auto correlation and partial auto correlation for our data at different lags"
   ]
  },
  {
   "cell_type": "code",
   "execution_count": 5,
   "metadata": {},
   "outputs": [
    {
     "data": {
      "image/png": "[encoded data removed]",
      "text/plain": [
       "<Figure size 864x576 with 2 Axes>"
      ]
     },
     "metadata": {
      "needs_background": "light"
     },
     "output_type": "display_data"
    }
   ],
   "source": [
    "fig = plt.figure(figsize=(12,8))\n",
    "ax1 = fig.add_subplot(211)\n",
    "fig = sm.graphics.tsa.plot_acf(sj_monthly, lags=40, ax=ax1)\n",
    "ax2 = fig.add_subplot(212)\n",
    "fig = sm.graphics.tsa.plot_pacf(sj_monthly, lags=40, ax=ax2)"
   ]
  },
  {
   "cell_type": "markdown",
   "metadata": {},
   "source": [
    " - **AR**: There is significant autocorrelation at lags upto 3 or even 4\n",
    " - **I**: Periodicity occurs at every 12th month, which is expected\n",
    " - **MA**: There is a clear partial auto correlation until lag 3"
   ]
  },
  {
   "cell_type": "markdown",
   "metadata": {},
   "source": [
    "#### Tuning the hyperparameters for the Arima model\n",
    "<font color='red'>This section is a work in progress</font>"
   ]
  },
  {
   "cell_type": "code",
   "execution_count": 6,
   "metadata": {},
   "outputs": [],
   "source": [
    "# Define the p, d and q parameters to take any value between 0 and 2\n",
    "p = d = q = range(0, 2)\n",
    "\n",
    "# Generate all different combinations of p, q and q triplets\n",
    "pdq = list(itertools.product(p, d, q))\n",
    "\n",
    "# Generate all different combinations of seasonal p, q and q triplets\n",
    "# seasonal_pdq = [(x[0], x[1], x[2], 12) for x in list(itertools.product(p, d, q))]"
   ]
  },
  {
   "cell_type": "code",
   "execution_count": 7,
   "metadata": {},
   "outputs": [],
   "source": [
    "pdq = [(3,0,1),\n",
    "       (3,0,2),\n",
    "       (3,0,3),\n",
    "       (3,0,4),\n",
    "       (4,0,1),\n",
    "       (4,0,2),\n",
    "       (4,0,3),\n",
    "       (4,0,4),\n",
    "       (1,0,3),\n",
    "       (2,0,3),\n",
    "       (1,0,4),\n",
    "       (2,0,4)\n",
    "      ]"
   ]
  },
  {
   "cell_type": "code",
   "execution_count": 8,
   "metadata": {},
   "outputs": [],
   "source": [
    "seasonal_pdq = [\n",
    "       (3,2,2,12),\n",
    "       (4,2,1,12),\n",
    "       (4,2,2,12),\n",
    "       (2,2,3,12),\n",
    "       (1,2,4,12),\n",
    "       (2,2,4,12)\n",
    "      ]"
   ]
  },
  {
   "cell_type": "code",
   "execution_count": 9,
   "metadata": {},
   "outputs": [],
   "source": [
    "best_aic = 100000\n",
    "optimal_pdq = 0\n",
    "optimal_seasonal_pdq = 0"
   ]
  },
  {
   "cell_type": "code",
   "execution_count": 10,
   "metadata": {},
   "outputs": [],
   "source": [
    "warnings.filterwarnings(\"ignore\") # specify to ignore warning messages"
   ]
  },
  {
   "cell_type": "code",
   "execution_count": 11,
   "metadata": {},
   "outputs": [
    {
     "name": "stdout",
     "output_type": "stream",
     "text": [
      "ARIMA(3, 0, 1)x(3, 2, 2, 12) - AIC:1949.8964675115353\n",
      "ARIMA(3, 0, 1)x(4, 2, 1, 12) - AIC:1782.331660593346\n",
      "ARIMA(3, 0, 1)x(4, 2, 2, 12) - AIC:1890.7706306477269\n",
      "ARIMA(3, 0, 1)x(2, 2, 3, 12) - AIC:2065.4928043969803\n",
      "ARIMA(3, 0, 1)x(1, 2, 4, 12) - AIC:1762.1606880665436\n",
      "ARIMA(3, 0, 1)x(2, 2, 4, 12) - AIC:1863.0248497997882\n",
      "ARIMA(3, 0, 2)x(3, 2, 2, 12) - AIC:2040.345774642941\n",
      "ARIMA(3, 0, 2)x(4, 2, 1, 12) - AIC:1866.076330439159\n",
      "ARIMA(3, 0, 2)x(4, 2, 2, 12) - AIC:1874.3141633896141\n",
      "ARIMA(3, 0, 2)x(2, 2, 3, 12) - AIC:2058.9439962498977\n",
      "ARIMA(3, 0, 2)x(1, 2, 4, 12) - AIC:1894.6816510169274\n",
      "ARIMA(3, 0, 2)x(2, 2, 4, 12) - AIC:1894.5687839285574\n",
      "ARIMA(3, 0, 3)x(3, 2, 2, 12) - AIC:2053.9185023493983\n",
      "ARIMA(3, 0, 3)x(4, 2, 1, 12) - AIC:1865.1606991709298\n",
      "ARIMA(3, 0, 3)x(4, 2, 2, 12) - AIC:1892.623221616368\n",
      "ARIMA(3, 0, 3)x(2, 2, 3, 12) - AIC:2042.8051228857\n",
      "ARIMA(3, 0, 3)x(1, 2, 4, 12) - AIC:1871.2089490362723\n",
      "ARIMA(3, 0, 3)x(2, 2, 4, 12) - AIC:1881.6395307675507\n",
      "ARIMA(3, 0, 4)x(3, 2, 2, 12) - AIC:2036.787503648147\n",
      "ARIMA(3, 0, 4)x(4, 2, 1, 12) - AIC:1882.039741293253\n",
      "ARIMA(3, 0, 4)x(4, 2, 2, 12) - AIC:1884.4047308222102\n",
      "ARIMA(3, 0, 4)x(2, 2, 3, 12) - AIC:2027.827772420724\n",
      "ARIMA(3, 0, 4)x(1, 2, 4, 12) - AIC:1852.7301852194337\n",
      "ARIMA(3, 0, 4)x(2, 2, 4, 12) - AIC:1857.0052543573324\n",
      "ARIMA(4, 0, 1)x(3, 2, 2, 12) - AIC:2043.0295150035124\n",
      "ARIMA(4, 0, 1)x(4, 2, 1, 12) - AIC:1727.0532562896765\n",
      "ARIMA(4, 0, 1)x(4, 2, 2, 12) - AIC:1837.6259413607022\n",
      "ARIMA(4, 0, 1)x(2, 2, 3, 12) - AIC:1943.9248310393766\n",
      "ARIMA(4, 0, 1)x(1, 2, 4, 12) - AIC:1753.2870717593328\n",
      "ARIMA(4, 0, 1)x(2, 2, 4, 12) - AIC:1880.892806201261\n",
      "ARIMA(4, 0, 2)x(3, 2, 2, 12) - AIC:2042.544379798295\n",
      "ARIMA(4, 0, 2)x(4, 2, 1, 12) - AIC:1867.7506604147825\n",
      "ARIMA(4, 0, 2)x(4, 2, 2, 12) - AIC:1847.0011294373994\n",
      "ARIMA(4, 0, 2)x(2, 2, 3, 12) - AIC:2066.6885239227745\n",
      "ARIMA(4, 0, 2)x(1, 2, 4, 12) - AIC:1893.273204435145\n",
      "ARIMA(4, 0, 2)x(2, 2, 4, 12) - AIC:1897.5514315765117\n",
      "ARIMA(4, 0, 3)x(3, 2, 2, 12) - AIC:2047.8970410708662\n",
      "ARIMA(4, 0, 3)x(4, 2, 1, 12) - AIC:1881.3622913973054\n",
      "ARIMA(4, 0, 3)x(4, 2, 2, 12) - AIC:1874.962821623934\n",
      "ARIMA(4, 0, 3)x(2, 2, 3, 12) - AIC:2050.1693104695673\n",
      "ARIMA(4, 0, 3)x(1, 2, 4, 12) - AIC:1877.9428992937687\n",
      "ARIMA(4, 0, 3)x(2, 2, 4, 12) - AIC:1884.184170413921\n",
      "ARIMA(4, 0, 4)x(3, 2, 2, 12) - AIC:2040.1239805616701\n",
      "ARIMA(4, 0, 4)x(4, 2, 1, 12) - AIC:1863.5655865940653\n",
      "ARIMA(4, 0, 4)x(4, 2, 2, 12) - AIC:1870.622216000053\n",
      "ARIMA(4, 0, 4)x(2, 2, 3, 12) - AIC:2027.5389368738934\n",
      "ARIMA(4, 0, 4)x(1, 2, 4, 12) - AIC:1857.4925587334496\n",
      "ARIMA(4, 0, 4)x(2, 2, 4, 12) - AIC:1859.9922065589653\n",
      "ARIMA(1, 0, 3)x(3, 2, 2, 12) - AIC:1966.690213386339\n",
      "ARIMA(1, 0, 3)x(4, 2, 1, 12) - AIC:1816.4940367705008\n",
      "ARIMA(1, 0, 3)x(4, 2, 2, 12) - AIC:1873.1017297976866\n",
      "ARIMA(1, 0, 3)x(2, 2, 3, 12) - AIC:1917.3849874843904\n",
      "ARIMA(1, 0, 3)x(1, 2, 4, 12) - AIC:1744.2918438389984\n",
      "ARIMA(1, 0, 3)x(2, 2, 4, 12) - AIC:1719.2314357331256\n",
      "ARIMA(2, 0, 3)x(3, 2, 2, 12) - AIC:1978.6534115456286\n",
      "ARIMA(2, 0, 3)x(4, 2, 1, 12) - AIC:1777.0878222539825\n",
      "ARIMA(2, 0, 3)x(4, 2, 2, 12) - AIC:1849.3358243671428\n",
      "ARIMA(2, 0, 3)x(2, 2, 3, 12) - AIC:1965.3820132597762\n",
      "ARIMA(2, 0, 3)x(1, 2, 4, 12) - AIC:1880.8785911378745\n",
      "ARIMA(2, 0, 3)x(2, 2, 4, 12) - AIC:1884.8765620020622\n",
      "ARIMA(1, 0, 4)x(3, 2, 2, 12) - AIC:1964.88436667654\n",
      "ARIMA(1, 0, 4)x(4, 2, 1, 12) - AIC:1772.7416192983965\n",
      "ARIMA(1, 0, 4)x(4, 2, 2, 12) - AIC:1893.981459013373\n",
      "ARIMA(1, 0, 4)x(2, 2, 3, 12) - AIC:1978.211600567135\n",
      "ARIMA(1, 0, 4)x(1, 2, 4, 12) - AIC:1755.8175612119026\n",
      "ARIMA(1, 0, 4)x(2, 2, 4, 12) - AIC:1866.7512302313985\n",
      "ARIMA(2, 0, 4)x(3, 2, 2, 12) - AIC:2071.0899199731643\n",
      "ARIMA(2, 0, 4)x(4, 2, 1, 12) - AIC:1901.1850343935557\n",
      "ARIMA(2, 0, 4)x(4, 2, 2, 12) - AIC:1901.2172616404657\n",
      "ARIMA(2, 0, 4)x(2, 2, 3, 12) - AIC:2032.1940054727322\n",
      "ARIMA(2, 0, 4)x(1, 2, 4, 12) - AIC:1860.1620332422372\n",
      "ARIMA(2, 0, 4)x(2, 2, 4, 12) - AIC:1866.6463223329001\n"
     ]
    }
   ],
   "source": [
    "for param in pdq:\n",
    "    for param_seasonal in seasonal_pdq:\n",
    "        try:\n",
    "            mod = sm.tsa.statespace.SARIMAX(sj_monthly,\n",
    "                                            order=param,\n",
    "                                            seasonal_order=param_seasonal,\n",
    "                                            enforce_stationarity=False,\n",
    "                                            enforce_invertibility=False)\n",
    "\n",
    "            results = mod.fit()\n",
    "            \n",
    "            if results.aic < best_aic:\n",
    "                best_aic = results.aic\n",
    "                optimal_pdq = param\n",
    "                optimal_seasonal_pdq = param_seasonal\n",
    "\n",
    "            print('ARIMA{}x{} - AIC:{}'.format(param, param_seasonal, results.aic))\n",
    "        except:\n",
    "            continue"
   ]
  },
  {
   "cell_type": "markdown",
   "metadata": {},
   "source": [
    "> Following are the optimised hyperparameters for the arima or in this case sarimax model"
   ]
  },
  {
   "cell_type": "code",
   "execution_count": 12,
   "metadata": {},
   "outputs": [
    {
     "data": {
      "text/plain": [
       "1719.2314357331256"
      ]
     },
     "execution_count": 12,
     "metadata": {},
     "output_type": "execute_result"
    }
   ],
   "source": [
    "best_aic"
   ]
  },
  {
   "cell_type": "code",
   "execution_count": 13,
   "metadata": {},
   "outputs": [
    {
     "data": {
      "text/plain": [
       "(1, 0, 3)"
      ]
     },
     "execution_count": 13,
     "metadata": {},
     "output_type": "execute_result"
    }
   ],
   "source": [
    "optimal_pdq"
   ]
  },
  {
   "cell_type": "code",
   "execution_count": 14,
   "metadata": {},
   "outputs": [
    {
     "data": {
      "text/plain": [
       "(2, 2, 4, 12)"
      ]
     },
     "execution_count": 14,
     "metadata": {},
     "output_type": "execute_result"
    }
   ],
   "source": [
    "optimal_seasonal_pdq"
   ]
  },
  {
   "cell_type": "markdown",
   "metadata": {},
   "source": [
    "> Fitting the model on optimised hyperparameters"
   ]
  },
  {
   "cell_type": "code",
   "execution_count": 15,
   "metadata": {
    "scrolled": true
   },
   "outputs": [
    {
     "name": "stdout",
     "output_type": "stream",
     "text": [
      "                                 Statespace Model Results                                 \n",
      "==========================================================================================\n",
      "Dep. Variable:                        total_cases   No. Observations:                  217\n",
      "Model:             SARIMAX(4, 1, 3)x(1, 1, 1, 12)   Log Likelihood               -1268.877\n",
      "Date:                            Fri, 15 May 2020   AIC                           2557.753\n",
      "Time:                                    15:58:50   BIC                           2590.934\n",
      "Sample:                                04-30-1990   HQIC                          2571.176\n",
      "                                     - 04-30-2008                                         \n",
      "Covariance Type:                              opg                                         \n",
      "==============================================================================\n",
      "                 coef    std err          z      P>|z|      [0.025      0.975]\n",
      "------------------------------------------------------------------------------\n",
      "ar.L1         -0.4923      4.085     -0.121      0.904      -8.499       7.514\n",
      "ar.L2          0.6894      2.125      0.324      0.746      -3.475       4.854\n",
      "ar.L3          0.0720      0.692      0.104      0.917      -1.284       1.429\n",
      "ar.L4         -0.1110      0.450     -0.247      0.805      -0.993       0.771\n",
      "ma.L1          0.6741      1.838      0.367      0.714      -2.929       4.277\n",
      "ma.L2         -0.9994      2.940     -0.340      0.734      -6.761       4.762\n",
      "ma.L3         -0.6748      2.698     -0.250      0.803      -5.963       4.613\n",
      "ar.S.L12      -0.0527      0.066     -0.797      0.426      -0.182       0.077\n",
      "ma.S.L12      -0.9763      0.329     -2.968      0.003      -1.621      -0.332\n",
      "sigma2      1.232e+04      0.000   3.03e+07      0.000    1.23e+04    1.23e+04\n",
      "===================================================================================\n",
      "Ljung-Box (Q):                       19.91   Jarque-Bera (JB):              2116.95\n",
      "Prob(Q):                              1.00   Prob(JB):                         0.00\n",
      "Heteroskedasticity (H):               0.23   Skew:                             1.71\n",
      "Prob(H) (two-sided):                  0.00   Kurtosis:                        18.41\n",
      "===================================================================================\n",
      "\n",
      "Warnings:\n",
      "[1] Covariance matrix calculated using the outer product of gradients (complex-step).\n",
      "[2] Covariance matrix is singular or near-singular, with condition number 1.45e+24. Standard errors may be unstable.\n"
     ]
    }
   ],
   "source": [
    "mod = sm.tsa.statespace.SARIMAX(sj_monthly, order=(4,1,3), seasonal_order=(1,1,1,12))\n",
    "results = mod.fit()\n",
    "print (results.summary())"
   ]
  },
  {
   "cell_type": "code",
   "execution_count": 16,
   "metadata": {},
   "outputs": [],
   "source": [
    "pred = results.predict()  "
   ]
  },
  {
   "cell_type": "code",
   "execution_count": 17,
   "metadata": {},
   "outputs": [],
   "source": [
    "from sklearn.metrics import mean_absolute_error"
   ]
  },
  {
   "cell_type": "code",
   "execution_count": 18,
   "metadata": {},
   "outputs": [
    {
     "data": {
      "text/plain": [
       "59.701712298781636"
      ]
     },
     "execution_count": 18,
     "metadata": {},
     "output_type": "execute_result"
    }
   ],
   "source": [
    "mean_absolute_error(sj_monthly[:-1], pred.shift(-1).dropna().clip(0))"
   ]
  },
  {
   "cell_type": "markdown",
   "metadata": {},
   "source": [
    "This result is clearly not good enough, we will need to do more data engineering in order to make a useful arima model"
   ]
  },
  {
   "cell_type": "markdown",
   "metadata": {},
   "source": [
    "#### observing the seasonal differences"
   ]
  },
  {
   "cell_type": "code",
   "execution_count": 19,
   "metadata": {
    "scrolled": true
   },
   "outputs": [
    {
     "data": {
      "text/plain": [
       "<matplotlib.axes._subplots.AxesSubplot at 0x1e3a9843748>"
      ]
     },
     "execution_count": 19,
     "metadata": {},
     "output_type": "execute_result"
    },
    {
     "data": {
      "image/png": "[encoded data removed]",
      "text/plain": [
       "<Figure size 432x288 with 1 Axes>"
      ]
     },
     "metadata": {
      "needs_background": "light"
     },
     "output_type": "display_data"
    }
   ],
   "source": [
    "sj_monthly.diff(12).plot()"
   ]
  },
  {
   "cell_type": "code",
   "execution_count": 20,
   "metadata": {
    "scrolled": true
   },
   "outputs": [
    {
     "data": {
      "text/plain": [
       "<matplotlib.axes._subplots.AxesSubplot at 0x1e3a98bf848>"
      ]
     },
     "execution_count": 20,
     "metadata": {},
     "output_type": "execute_result"
    },
    {
     "data": {
      "image/png": "[encoded data removed]",
      "text/plain": [
       "<Figure size 432x288 with 1 Axes>"
      ]
     },
     "metadata": {
      "needs_background": "light"
     },
     "output_type": "display_data"
    }
   ],
   "source": [
    "iq_monthly.diff(12).plot()"
   ]
  },
  {
   "cell_type": "markdown",
   "metadata": {},
   "source": [
    "These plots clearly have a pattern to them.\n",
    "**Next Step** shall be to utilise this pattern in creating a powerful arima model."
   ]
  },
  {
   "cell_type": "code",
   "execution_count": null,
   "metadata": {},
   "outputs": [],
   "source": []
  }
 ],
 "metadata": {
  "kernelspec": {
   "display_name": "Python 3",
   "language": "python",
   "name": "python3"
  },
  "language_info": {
   "codemirror_mode": {
    "name": "ipython",
    "version": 3
   },
   "file_extension": ".py",
   "mimetype": "text/x-python",
   "name": "python",
   "nbconvert_exporter": "python",
   "pygments_lexer": "ipython3",
   "version": "3.7.4"
  }
 },
 "nbformat": 4,
 "nbformat_minor": 2
}
